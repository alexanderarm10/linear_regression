{
 "cells": [
  {
   "cell_type": "code",
   "execution_count": null,
   "metadata": {},
   "outputs": [],
   "source": [
    "# Validador de columnas\n",
    "def validador_de_columnas(archivos):\n",
    "    \"\"\"\n",
    "    Valida si los archivos tienen las mismas columnas.\n",
    "    \n",
    "    Parámetros:\n",
    "    - files (list): Lista de rutas o objetos Path que serán validados.\n",
    "    \n",
    "    Retorna:\n",
    "    - bool: True si todos los archivos tienen las mismas columnas, False en caso contrario.\n",
    "    - list: Lista con las columnas únicas en todos los archivos.\n",
    "    \"\"\"\n",
    "    columnas_por_archivo = {}\n",
    "    columnas_comunes = None\n",
    "    archivos_diferentes = {}\n",
    "\n",
    "    for i, archivo in enumerate(archivos):\n",
    "        df = pd.read_csv(archivo)\n",
    "        columnas_actuales = list(df.columns)\n",
    "        columnas_por_archivo[archivo.name] = columnas_actuales\n",
    "\n",
    "        if columnas_comunes is None:\n",
    "            columnas_comunes = set(columnas_actuales)\n",
    "        elif set(columnas_actuales) != columnas_comunes:\n",
    "                archivos_diferentes[archivo.name] = columnas_actuales\n",
    "\n",
    "    if not archivos_diferentes:\n",
    "        print('Todos los archivos tienen las mismas columnas en el mismo orden')\n",
    "\n",
    "    else:\n",
    "        print('Los archivos tienen columnas diferentes')\n",
    "        print(f'Columnas comunes:\\n{columnas_actuales}')\n",
    "        print('Archivos con columnas diferentes')\n",
    "        for archivo, columnas in archivos_diferentes.items():\n",
    "             print(f'{archivo}:\\n{columnas}')"
   ]
  }
 ],
 "metadata": {
  "kernelspec": {
   "display_name": "Python 3",
   "language": "python",
   "name": "python3"
  },
  "language_info": {
   "codemirror_mode": {
    "name": "ipython",
    "version": 3
   },
   "file_extension": ".py",
   "mimetype": "text/x-python",
   "name": "python",
   "nbconvert_exporter": "python",
   "pygments_lexer": "ipython3",
   "version": "3.11.4"
  }
 },
 "nbformat": 4,
 "nbformat_minor": 2
}
