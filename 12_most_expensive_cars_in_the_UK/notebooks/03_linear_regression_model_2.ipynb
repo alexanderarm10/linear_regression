{
 "cells": [
  {
   "cell_type": "markdown",
   "metadata": {},
   "source": [
    "# Modelo de regresión lineal 2"
   ]
  },
  {
   "cell_type": "code",
   "execution_count": 21,
   "metadata": {},
   "outputs": [],
   "source": [
    "from sklearn.model_selection import train_test_split\n",
    "from sklearn.preprocessing import StandardScaler\n",
    "from sklearn.linear_model import LinearRegression\n",
    "from sklearn.metrics import mean_squared_error, r2_score, mean_absolute_error\n",
    "from regressors import stats\n",
    "import matplotlib.pyplot as plt\n",
    "import pandas as pd\n",
    "import numpy as np\n",
    "import seaborn as sns\n",
    "\n",
    "# Estilos\n",
    "sns.set(style='whitegrid')"
   ]
  },
  {
   "cell_type": "markdown",
   "metadata": {},
   "source": [
    "## Preprocesamiento y entrenamiento"
   ]
  },
  {
   "cell_type": "code",
   "execution_count": 22,
   "metadata": {},
   "outputs": [],
   "source": [
    "# Carga de datos\n",
    "df = pd.read_csv('../data/processed/top_12_carros_vendidos.csv')"
   ]
  },
  {
   "cell_type": "code",
   "execution_count": 23,
   "metadata": {},
   "outputs": [],
   "source": [
    "columnas_categoricas = df.select_dtypes(include=['object']).columns.tolist() # Tomamos las variables categóricas\n",
    "columnas_numericas = df.select_dtypes(include=['int64', 'float64']).columns.tolist() # Tomamos las variables numéricas"
   ]
  },
  {
   "cell_type": "code",
   "execution_count": 24,
   "metadata": {},
   "outputs": [],
   "source": [
    "df = pd.get_dummies(df, columns=columnas_categoricas, drop_first=True)\n",
    "columnas_bool = df.select_dtypes(include=['bool']).columns.tolist()\n",
    "df[columnas_bool] = df[columnas_bool].astype(int)"
   ]
  },
  {
   "cell_type": "code",
   "execution_count": 25,
   "metadata": {},
   "outputs": [
    {
     "data": {
      "text/html": [
       "<div>\n",
       "<style scoped>\n",
       "    .dataframe tbody tr th:only-of-type {\n",
       "        vertical-align: middle;\n",
       "    }\n",
       "\n",
       "    .dataframe tbody tr th {\n",
       "        vertical-align: top;\n",
       "    }\n",
       "\n",
       "    .dataframe thead th {\n",
       "        text-align: right;\n",
       "    }\n",
       "</style>\n",
       "<table border=\"1\" class=\"dataframe\">\n",
       "  <thead>\n",
       "    <tr style=\"text-align: right;\">\n",
       "      <th></th>\n",
       "      <th>year</th>\n",
       "      <th>price</th>\n",
       "      <th>mileage</th>\n",
       "      <th>tax</th>\n",
       "      <th>mpg</th>\n",
       "      <th>engineSize</th>\n",
       "      <th>model_ A Class</th>\n",
       "      <th>model_ Astra</th>\n",
       "      <th>model_ C Class</th>\n",
       "      <th>model_ Corsa</th>\n",
       "      <th>...</th>\n",
       "      <th>model_ Kuga</th>\n",
       "      <th>model_ Mokka X</th>\n",
       "      <th>model_ Polo</th>\n",
       "      <th>model_ Yaris</th>\n",
       "      <th>transmission_Manual</th>\n",
       "      <th>transmission_Other</th>\n",
       "      <th>transmission_Semi-Auto</th>\n",
       "      <th>fuelType_Hybrid</th>\n",
       "      <th>fuelType_Other</th>\n",
       "      <th>fuelType_Petrol</th>\n",
       "    </tr>\n",
       "  </thead>\n",
       "  <tbody>\n",
       "    <tr>\n",
       "      <th>0</th>\n",
       "      <td>2017</td>\n",
       "      <td>16500</td>\n",
       "      <td>16570</td>\n",
       "      <td>125</td>\n",
       "      <td>58.9</td>\n",
       "      <td>2.0</td>\n",
       "      <td>0</td>\n",
       "      <td>0</td>\n",
       "      <td>0</td>\n",
       "      <td>0</td>\n",
       "      <td>...</td>\n",
       "      <td>0</td>\n",
       "      <td>0</td>\n",
       "      <td>0</td>\n",
       "      <td>0</td>\n",
       "      <td>1</td>\n",
       "      <td>0</td>\n",
       "      <td>0</td>\n",
       "      <td>0</td>\n",
       "      <td>0</td>\n",
       "      <td>0</td>\n",
       "    </tr>\n",
       "    <tr>\n",
       "      <th>1</th>\n",
       "      <td>2017</td>\n",
       "      <td>14250</td>\n",
       "      <td>55594</td>\n",
       "      <td>135</td>\n",
       "      <td>148.7</td>\n",
       "      <td>2.0</td>\n",
       "      <td>0</td>\n",
       "      <td>0</td>\n",
       "      <td>0</td>\n",
       "      <td>0</td>\n",
       "      <td>...</td>\n",
       "      <td>0</td>\n",
       "      <td>0</td>\n",
       "      <td>0</td>\n",
       "      <td>0</td>\n",
       "      <td>0</td>\n",
       "      <td>0</td>\n",
       "      <td>0</td>\n",
       "      <td>0</td>\n",
       "      <td>1</td>\n",
       "      <td>0</td>\n",
       "    </tr>\n",
       "    <tr>\n",
       "      <th>2</th>\n",
       "      <td>2017</td>\n",
       "      <td>16000</td>\n",
       "      <td>45456</td>\n",
       "      <td>30</td>\n",
       "      <td>64.2</td>\n",
       "      <td>2.0</td>\n",
       "      <td>0</td>\n",
       "      <td>0</td>\n",
       "      <td>0</td>\n",
       "      <td>0</td>\n",
       "      <td>...</td>\n",
       "      <td>0</td>\n",
       "      <td>0</td>\n",
       "      <td>0</td>\n",
       "      <td>0</td>\n",
       "      <td>0</td>\n",
       "      <td>0</td>\n",
       "      <td>0</td>\n",
       "      <td>0</td>\n",
       "      <td>0</td>\n",
       "      <td>0</td>\n",
       "    </tr>\n",
       "    <tr>\n",
       "      <th>3</th>\n",
       "      <td>2015</td>\n",
       "      <td>12600</td>\n",
       "      <td>78957</td>\n",
       "      <td>30</td>\n",
       "      <td>62.8</td>\n",
       "      <td>2.0</td>\n",
       "      <td>0</td>\n",
       "      <td>0</td>\n",
       "      <td>0</td>\n",
       "      <td>0</td>\n",
       "      <td>...</td>\n",
       "      <td>0</td>\n",
       "      <td>0</td>\n",
       "      <td>0</td>\n",
       "      <td>0</td>\n",
       "      <td>0</td>\n",
       "      <td>0</td>\n",
       "      <td>0</td>\n",
       "      <td>0</td>\n",
       "      <td>0</td>\n",
       "      <td>0</td>\n",
       "    </tr>\n",
       "    <tr>\n",
       "      <th>4</th>\n",
       "      <td>2016</td>\n",
       "      <td>15100</td>\n",
       "      <td>29213</td>\n",
       "      <td>30</td>\n",
       "      <td>64.2</td>\n",
       "      <td>2.0</td>\n",
       "      <td>0</td>\n",
       "      <td>0</td>\n",
       "      <td>0</td>\n",
       "      <td>0</td>\n",
       "      <td>...</td>\n",
       "      <td>0</td>\n",
       "      <td>0</td>\n",
       "      <td>0</td>\n",
       "      <td>0</td>\n",
       "      <td>0</td>\n",
       "      <td>0</td>\n",
       "      <td>0</td>\n",
       "      <td>0</td>\n",
       "      <td>0</td>\n",
       "      <td>0</td>\n",
       "    </tr>\n",
       "  </tbody>\n",
       "</table>\n",
       "<p>5 rows × 23 columns</p>\n",
       "</div>"
      ],
      "text/plain": [
       "   year  price  mileage  tax    mpg  engineSize  model_ A Class  model_ Astra  \\\n",
       "0  2017  16500    16570  125   58.9         2.0               0             0   \n",
       "1  2017  14250    55594  135  148.7         2.0               0             0   \n",
       "2  2017  16000    45456   30   64.2         2.0               0             0   \n",
       "3  2015  12600    78957   30   62.8         2.0               0             0   \n",
       "4  2016  15100    29213   30   64.2         2.0               0             0   \n",
       "\n",
       "   model_ C Class  model_ Corsa  ...  model_ Kuga  model_ Mokka X  \\\n",
       "0               0             0  ...            0               0   \n",
       "1               0             0  ...            0               0   \n",
       "2               0             0  ...            0               0   \n",
       "3               0             0  ...            0               0   \n",
       "4               0             0  ...            0               0   \n",
       "\n",
       "   model_ Polo  model_ Yaris  transmission_Manual  transmission_Other  \\\n",
       "0            0             0                    1                   0   \n",
       "1            0             0                    0                   0   \n",
       "2            0             0                    0                   0   \n",
       "3            0             0                    0                   0   \n",
       "4            0             0                    0                   0   \n",
       "\n",
       "   transmission_Semi-Auto  fuelType_Hybrid  fuelType_Other  fuelType_Petrol  \n",
       "0                       0                0               0                0  \n",
       "1                       0                0               1                0  \n",
       "2                       0                0               0                0  \n",
       "3                       0                0               0                0  \n",
       "4                       0                0               0                0  \n",
       "\n",
       "[5 rows x 23 columns]"
      ]
     },
     "execution_count": 25,
     "metadata": {},
     "output_type": "execute_result"
    }
   ],
   "source": [
    "df.head()"
   ]
  },
  {
   "cell_type": "code",
   "execution_count": 26,
   "metadata": {},
   "outputs": [],
   "source": [
    "# Se separan las columnas\n",
    "X_cols = list(set(df.columns) - set(['price']))\n",
    "Y_cols = ['price']\n",
    "\n",
    "X = df[X_cols].values\n",
    "Y = df[Y_cols]\n",
    "\n",
    "# Se divide el dataset\n",
    "X_train, X_test, Y_train, Y_test = train_test_split(X, Y)\n",
    "\n",
    "# Estandarización o normalización\n",
    "sc_x = StandardScaler().fit(X)\n",
    "sc_y = StandardScaler().fit(Y)\n",
    "\n",
    "X_train = sc_x.transform(X_train)\n",
    "X_test = sc_x.transform(X_test)\n",
    "Y_train = sc_y.transform(Y_train)\n",
    "Y_test = sc_y.transform(Y_test)\n",
    "\n",
    "# Crear el modelo\n",
    "model = LinearRegression()\n",
    "model.fit(X_train, Y_train)\n",
    "y_pred = model.predict(X_test)"
   ]
  },
  {
   "cell_type": "markdown",
   "metadata": {},
   "source": [
    "## Métricas"
   ]
  },
  {
   "cell_type": "code",
   "execution_count": 27,
   "metadata": {},
   "outputs": [],
   "source": [
    "# R² (Coeficiente de Determinación) Entre cero y uno, por encima de 0.7 puede llegar a ser un buen aceptable\n",
    "r2 = round(r2_score(Y_test, y_pred),3)\n",
    "\n",
    "# Error Cuadrático Medio - Está en unidades cuadradas de la variable objetivo\n",
    "mse = round(mean_squared_error(Y_test, y_pred),3)\n",
    "\n",
    "# Raiz del MSE (RMSE) - Está en las mismas unidades de la variable objetivo, entre más bajo mejor\n",
    "rmse = round((mse ** 0.5), 3)\n",
    "\n",
    "# Error relativo promedio - Menor al 10% Excelente, entre 11% y 20% Bueno, por encima de 30% necesita ajustes\n",
    "error_relativo = round((rmse / df.price.mean() *100),3)\n",
    "\n",
    "# Error absoluto medio (MAE) - Debe ser bajo en relación al rango de la variable objetivo\n",
    "mae = round(mean_absolute_error(y_pred, Y_test), 3)"
   ]
  },
  {
   "cell_type": "code",
   "execution_count": 28,
   "metadata": {},
   "outputs": [
    {
     "name": "stdout",
     "output_type": "stream",
     "text": [
      "________Summary_________\n",
      "Residuals:\n",
      "     Min      1Q  Median     3Q    Max\n",
      "-13.5586 -0.1592  0.0295 0.2226 3.6185\n",
      "\n",
      "\n",
      "Coefficients:\n",
      "                        Estimate                  Std. Error          t value   p value\n",
      "_intercept              0.000327  0.000000e+00+3.294281e+02j   0.0000-0.0000j  0.999999\n",
      "model_ Fiesta          -0.152702  8.285000e-03+0.000000e+00j -18.4311+0.0000j  0.000000\n",
      "model_ C Class          0.109081  6.050000e-03-0.000000e+00j  18.0310+0.0000j  0.000000\n",
      "model_ Kuga            -0.057513  5.776000e-03+0.000000e+00j  -9.9569+0.0000j  0.000000\n",
      "model_ Corsa           -0.278042  6.465000e-03-0.000000e+00j -43.0066-0.0000j  0.000000\n",
      "tax                    -0.021475  5.727000e-03-0.000000e+00j  -3.7497-0.0000j  0.000178\n",
      "fuelType_Other          0.028411  4.768000e-03+0.000000e+00j   5.9585-0.0000j  0.000000\n",
      "transmission_Semi-Auto  0.035257  6.168000e-03-0.000000e+00j   5.7162+0.0000j  0.000000\n",
      "engineSize              0.426173  7.059000e-03-0.000000e+00j  60.3696+0.0000j  0.000000\n",
      "fuelType_Hybrid         0.100327  5.838000e-03+0.000000e+00j  17.1846-0.0000j  0.000000\n",
      "mpg                    -0.103911  7.529000e-03+0.000000e+00j -13.8012+0.0000j  0.000000\n",
      "model_ Focus           -0.063732  6.743000e-03+0.000000e+00j  -9.4515+0.0000j  0.000000\n",
      "model_ Mokka X         -0.171541  5.878000e-03-0.000000e+00j -29.1854-0.0000j  0.000000\n",
      "year                    0.329054  6.693000e-03+0.000000e+00j  49.1659-0.0000j  0.000000\n",
      "mileage                -0.228352  6.710000e-03-0.000000e+00j -34.0313-0.0000j  0.000000\n",
      "model_ Polo            -0.109306  6.516000e-03-0.000000e+00j -16.7747-0.0000j  0.000000\n",
      "model_ Yaris           -0.189346  6.105000e-03-0.000000e+00j -31.0130-0.0000j  0.000000\n",
      "model_ Astra           -0.162113  5.887000e-03-0.000000e+00j -27.5374-0.0000j  0.000000\n",
      "transmission_Other      0.000633 -0.000000e+00+1.342914e+07j  -0.0000-0.0000j  1.000000\n",
      "model_ A Class          0.064525  5.749000e-03+0.000000e+00j  11.2236-0.0000j  0.000000\n",
      "model_ Golf            -0.037832  6.321000e-03+0.000000e+00j  -5.9851+0.0000j  0.000000\n",
      "transmission_Manual    -0.077318  7.151000e-03-0.000000e+00j -10.8123-0.0000j  0.000000\n",
      "fuelType_Petrol         0.116377  7.416000e-03+0.000000e+00j  15.6916-0.0000j  0.000000\n",
      "---\n",
      "R-squared:  0.77632,    Adjusted R-squared:  0.77584\n",
      "F-statistic: 1604.26 on 22 features\n"
     ]
    }
   ],
   "source": [
    "model.intercept_ = model.intercept_[0] # Limpian los datos\n",
    "model.coef_ = model.coef_.reshape(-1) # Limpian los datos\n",
    "\n",
    "Y_test = Y_test.reshape(-1)\n",
    "\n",
    "print('________Summary_________')\n",
    "stats.summary(model, X_test, Y_test, X_cols) # Hace un resumen de los datos de test"
   ]
  },
  {
   "cell_type": "code",
   "execution_count": 29,
   "metadata": {},
   "outputs": [
    {
     "name": "stdout",
     "output_type": "stream",
     "text": [
      "r2: 0.776\n",
      "mse: 0.23\n",
      "Raíz del Error Cuadrático Medio (RMSE): 0.48 unidades monetarias\n",
      "Error relativo promedio: 0.003\n",
      "MAE: 0.274\n"
     ]
    }
   ],
   "source": [
    "print('r2:', r2) # Por encima del 75 es un buen modelo, por encima de 85 es un excelente modelo, por encima de 90 es un modelo perfecto\n",
    "print('mse:', mse) # Evalua el modelo entre 3 y -3\n",
    "print(f\"Raíz del Error Cuadrático Medio (RMSE): {rmse} unidades monetarias\")\n",
    "print(f'Error relativo promedio: {error_relativo}')\n",
    "print(f'MAE: {mae}')"
   ]
  },
  {
   "cell_type": "code",
   "execution_count": 30,
   "metadata": {},
   "outputs": [
    {
     "data": {
      "image/png": "[encoded data removed]",
      "text/plain": [
       "<Figure size 640x480 with 1 Axes>"
      ]
     },
     "metadata": {},
     "output_type": "display_data"
    }
   ],
   "source": [
    "# Residuales - Concentrados en cero indican que es un buen modelo\n",
    "residuales = np.subtract(Y_test, y_pred.reshape(-1)) # reshape para que quede con las mismas dimensiones\n",
    "plt.scatter(y_pred, residuales, alpha=0.5)\n",
    "plt.show()"
   ]
  }
 ],
 "metadata": {
  "kernelspec": {
   "display_name": "Python 3",
   "language": "python",
   "name": "python3"
  },
  "language_info": {
   "codemirror_mode": {
    "name": "ipython",
    "version": 3
   },
   "file_extension": ".py",
   "mimetype": "text/x-python",
   "name": "python",
   "nbconvert_exporter": "python",
   "pygments_lexer": "ipython3",
   "version": "3.11.4"
  }
 },
 "nbformat": 4,
 "nbformat_minor": 2
}
