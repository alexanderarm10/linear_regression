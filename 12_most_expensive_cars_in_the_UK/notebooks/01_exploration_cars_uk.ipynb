{
 "cells": [
  {
   "cell_type": "markdown",
   "metadata": {},
   "source": [
    "# 1. Carga de archivos"
   ]
  },
  {
   "cell_type": "code",
   "execution_count": 3,
   "metadata": {},
   "outputs": [],
   "source": [
    "# Librerías\n",
    "from pathlib import Path\n",
    "import pandas as pd\n"
   ]
  },
  {
   "cell_type": "code",
   "execution_count": 4,
   "metadata": {},
   "outputs": [],
   "source": [
    "# Funciones\n",
    "%run 00_functions.ipynb"
   ]
  },
  {
   "cell_type": "code",
   "execution_count": 5,
   "metadata": {},
   "outputs": [],
   "source": [
    "# Crea una lista de los nombres de los archivos que existen en la carpeta data\n",
    "ruta_archivos = Path(\"../data/raw\")\n",
    "archivos = [archivo for archivo in ruta_archivos.iterdir()]"
   ]
  },
  {
   "cell_type": "code",
   "execution_count": 6,
   "metadata": {},
   "outputs": [
    {
     "name": "stdout",
     "output_type": "stream",
     "text": [
      "Los archivos tienen columnas diferentes\n",
      "Columnas comunes:\n",
      "['model', 'year', 'price', 'transmission', 'mileage', 'fuelType', 'tax', 'mpg', 'engineSize']\n",
      "Archivos con columnas diferentes\n",
      "hyundi.csv:\n",
      "['model', 'year', 'price', 'transmission', 'mileage', 'fuelType', 'tax($)', 'mpg', 'engineSize']\n"
     ]
    }
   ],
   "source": [
    "# Se valida las columnas de los archivos\n",
    "validador_de_columnas(archivos)"
   ]
  },
  {
   "cell_type": "code",
   "execution_count": 9,
   "metadata": {},
   "outputs": [
    {
     "name": "stdout",
     "output_type": "stream",
     "text": [
      "<class 'pandas.core.frame.DataFrame'>\n",
      "RangeIndex: 99187 entries, 0 to 99186\n",
      "Data columns (total 9 columns):\n",
      " #   Column        Non-Null Count  Dtype  \n",
      "---  ------        --------------  -----  \n",
      " 0   model         99187 non-null  object \n",
      " 1   year          99187 non-null  int64  \n",
      " 2   price         99187 non-null  int64  \n",
      " 3   transmission  99187 non-null  object \n",
      " 4   mileage       99187 non-null  int64  \n",
      " 5   fuelType      99187 non-null  object \n",
      " 6   tax           99187 non-null  int64  \n",
      " 7   mpg           99187 non-null  float64\n",
      " 8   engineSize    99187 non-null  float64\n",
      "dtypes: float64(2), int64(4), object(3)\n",
      "memory usage: 6.8+ MB\n"
     ]
    }
   ],
   "source": [
    "# Leer y concatena todos los archivos\n",
    "columnas_seleccionadas = pd.read_csv(archivos[0])\n",
    "columnas_seleccionadas = columnas_seleccionadas.columns # Se seleccionan las columnas\n",
    "\n",
    "df = [pd.read_csv(archivo, header= None, skiprows=1) for archivo in archivos] # Se leen los archivos omitiendo la fila 1 y se indica que no hay encabezados\n",
    "df = pd.concat(df, ignore_index=True) # Concatena los dataframe\n",
    "df.columns = columnas_seleccionadas # Se agregan los encabezados\n",
    "df.info()"
   ]
  }
 ],
 "metadata": {
  "kernelspec": {
   "display_name": "Python 3",
   "language": "python",
   "name": "python3"
  },
  "language_info": {
   "codemirror_mode": {
    "name": "ipython",
    "version": 3
   },
   "file_extension": ".py",
   "mimetype": "text/x-python",
   "name": "python",
   "nbconvert_exporter": "python",
   "pygments_lexer": "ipython3",
   "version": "3.11.4"
  }
 },
 "nbformat": 4,
 "nbformat_minor": 2
}
