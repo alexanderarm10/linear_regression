{
 "cells": [
  {
   "cell_type": "markdown",
   "metadata": {},
   "source": [
    "# 1. Carga de archivos"
   ]
  },
  {
   "cell_type": "code",
   "execution_count": null,
   "metadata": {},
   "outputs": [],
   "source": [
    "# Librerías\n",
    "from pathlib import Path\n",
    "import pandas as pd\n"
   ]
  },
  {
   "cell_type": "code",
   "execution_count": null,
   "metadata": {},
   "outputs": [],
   "source": [
    "# Funciones\n",
    "%run 00_functions.ipynb"
   ]
  },
  {
   "cell_type": "code",
   "execution_count": null,
   "metadata": {},
   "outputs": [],
   "source": [
    "# Crea una lista de los nombres de los archivos que existen en la carpeta data\n",
    "ruta_archivos = Path(\"../data/raw\")\n",
    "archivos = [archivo for archivo in ruta_archivos.iterdir()]"
   ]
  },
  {
   "cell_type": "code",
   "execution_count": null,
   "metadata": {},
   "outputs": [],
   "source": [
    "# Se valida las columnas de los archivos\n",
    "validador_de_columnas(archivos)"
   ]
  },
  {
   "cell_type": "code",
   "execution_count": null,
   "metadata": {},
   "outputs": [],
   "source": [
    "# Leer y concatena todos los archivos\n",
    "columnas_seleccionadas = pd.read_csv(archivos[0])\n",
    "columnas_seleccionadas = columnas_seleccionadas.columns # Se seleccionan las columnas\n",
    "\n",
    "df = [pd.read_csv(archivo, header= None, skiprows=1) for archivo in archivos] # Se leen los archivos omitiendo la fila 1 y se indica que no hay encabezados\n",
    "df = pd.concat(df, ignore_index=True) # Concatena los dataframe\n",
    "df.columns = columnas_seleccionadas # Se agregan los encabezados\n",
    "print(df.shape)\n",
    "print(df.head())"
   ]
  }
 ],
 "metadata": {
  "kernelspec": {
   "display_name": "Python 3",
   "language": "python",
   "name": "python3"
  },
  "language_info": {
   "codemirror_mode": {
    "name": "ipython",
    "version": 3
   },
   "file_extension": ".py",
   "mimetype": "text/x-python",
   "name": "python",
   "nbconvert_exporter": "python",
   "pygments_lexer": "ipython3",
   "version": "3.11.4"
  }
 },
 "nbformat": 4,
 "nbformat_minor": 2
}
