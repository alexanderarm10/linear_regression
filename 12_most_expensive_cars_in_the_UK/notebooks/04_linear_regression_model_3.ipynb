{
 "cells": [
  {
   "cell_type": "markdown",
   "metadata": {},
   "source": [
    "# Modelo de regresión lineal 3"
   ]
  },
  {
   "cell_type": "code",
   "execution_count": 117,
   "metadata": {},
   "outputs": [],
   "source": [
    "from sklearn.model_selection import train_test_split\n",
    "from sklearn.preprocessing import StandardScaler\n",
    "from sklearn.linear_model import LinearRegression\n",
    "from sklearn.metrics import mean_squared_error, r2_score, mean_absolute_error\n",
    "from regressors import stats\n",
    "import matplotlib.pyplot as plt\n",
    "import pandas as pd\n",
    "import numpy as np\n",
    "import seaborn as sns\n",
    "\n",
    "# Estilos\n",
    "sns.set(style='whitegrid')"
   ]
  },
  {
   "cell_type": "markdown",
   "metadata": {},
   "source": [
    "## Preprocesamiento y entrenamiento"
   ]
  },
  {
   "cell_type": "code",
   "execution_count": 118,
   "metadata": {},
   "outputs": [],
   "source": [
    "# Carga de datos\n",
    "df = pd.read_csv('../data/processed/top_12_carros_vendidos.csv')\n",
    "df = df[df['price'] < 50000] # Se toma solo los autos con valor menor a 50000 para evitar outliers\n",
    "df['year*2'] = df['year']**2 # Agregamos una columna con el año al cuadrado"
   ]
  },
  {
   "cell_type": "code",
   "execution_count": 119,
   "metadata": {},
   "outputs": [],
   "source": [
    "columnas_categoricas = df.select_dtypes(include=['object']).columns.tolist() # Tomamos las variables categóricas\n",
    "columnas_numericas = df.select_dtypes(include=['int64', 'float64']).columns.tolist() # Tomamos las variables numéricas"
   ]
  },
  {
   "cell_type": "code",
   "execution_count": 120,
   "metadata": {},
   "outputs": [],
   "source": [
    "df = pd.get_dummies(df, columns=columnas_categoricas, drop_first=True)\n",
    "columnas_bool = df.select_dtypes(include=['bool']).columns.tolist()\n",
    "df[columnas_bool] = df[columnas_bool].astype(int)"
   ]
  },
  {
   "cell_type": "code",
   "execution_count": 121,
   "metadata": {},
   "outputs": [
    {
     "data": {
      "text/html": [
       "<div>\n",
       "<style scoped>\n",
       "    .dataframe tbody tr th:only-of-type {\n",
       "        vertical-align: middle;\n",
       "    }\n",
       "\n",
       "    .dataframe tbody tr th {\n",
       "        vertical-align: top;\n",
       "    }\n",
       "\n",
       "    .dataframe thead th {\n",
       "        text-align: right;\n",
       "    }\n",
       "</style>\n",
       "<table border=\"1\" class=\"dataframe\">\n",
       "  <thead>\n",
       "    <tr style=\"text-align: right;\">\n",
       "      <th></th>\n",
       "      <th>year</th>\n",
       "      <th>price</th>\n",
       "      <th>mileage</th>\n",
       "      <th>tax</th>\n",
       "      <th>mpg</th>\n",
       "      <th>engineSize</th>\n",
       "      <th>year*2</th>\n",
       "      <th>model_ A Class</th>\n",
       "      <th>model_ Astra</th>\n",
       "      <th>model_ C Class</th>\n",
       "      <th>...</th>\n",
       "      <th>model_ Kuga</th>\n",
       "      <th>model_ Mokka X</th>\n",
       "      <th>model_ Polo</th>\n",
       "      <th>model_ Yaris</th>\n",
       "      <th>transmission_Manual</th>\n",
       "      <th>transmission_Other</th>\n",
       "      <th>transmission_Semi-Auto</th>\n",
       "      <th>fuelType_Hybrid</th>\n",
       "      <th>fuelType_Other</th>\n",
       "      <th>fuelType_Petrol</th>\n",
       "    </tr>\n",
       "  </thead>\n",
       "  <tbody>\n",
       "    <tr>\n",
       "      <th>0</th>\n",
       "      <td>2017</td>\n",
       "      <td>16500</td>\n",
       "      <td>16570</td>\n",
       "      <td>125</td>\n",
       "      <td>58.9</td>\n",
       "      <td>2.0</td>\n",
       "      <td>4068289</td>\n",
       "      <td>0</td>\n",
       "      <td>0</td>\n",
       "      <td>0</td>\n",
       "      <td>...</td>\n",
       "      <td>0</td>\n",
       "      <td>0</td>\n",
       "      <td>0</td>\n",
       "      <td>0</td>\n",
       "      <td>1</td>\n",
       "      <td>0</td>\n",
       "      <td>0</td>\n",
       "      <td>0</td>\n",
       "      <td>0</td>\n",
       "      <td>0</td>\n",
       "    </tr>\n",
       "    <tr>\n",
       "      <th>1</th>\n",
       "      <td>2017</td>\n",
       "      <td>14250</td>\n",
       "      <td>55594</td>\n",
       "      <td>135</td>\n",
       "      <td>148.7</td>\n",
       "      <td>2.0</td>\n",
       "      <td>4068289</td>\n",
       "      <td>0</td>\n",
       "      <td>0</td>\n",
       "      <td>0</td>\n",
       "      <td>...</td>\n",
       "      <td>0</td>\n",
       "      <td>0</td>\n",
       "      <td>0</td>\n",
       "      <td>0</td>\n",
       "      <td>0</td>\n",
       "      <td>0</td>\n",
       "      <td>0</td>\n",
       "      <td>0</td>\n",
       "      <td>1</td>\n",
       "      <td>0</td>\n",
       "    </tr>\n",
       "    <tr>\n",
       "      <th>2</th>\n",
       "      <td>2017</td>\n",
       "      <td>16000</td>\n",
       "      <td>45456</td>\n",
       "      <td>30</td>\n",
       "      <td>64.2</td>\n",
       "      <td>2.0</td>\n",
       "      <td>4068289</td>\n",
       "      <td>0</td>\n",
       "      <td>0</td>\n",
       "      <td>0</td>\n",
       "      <td>...</td>\n",
       "      <td>0</td>\n",
       "      <td>0</td>\n",
       "      <td>0</td>\n",
       "      <td>0</td>\n",
       "      <td>0</td>\n",
       "      <td>0</td>\n",
       "      <td>0</td>\n",
       "      <td>0</td>\n",
       "      <td>0</td>\n",
       "      <td>0</td>\n",
       "    </tr>\n",
       "    <tr>\n",
       "      <th>3</th>\n",
       "      <td>2015</td>\n",
       "      <td>12600</td>\n",
       "      <td>78957</td>\n",
       "      <td>30</td>\n",
       "      <td>62.8</td>\n",
       "      <td>2.0</td>\n",
       "      <td>4060225</td>\n",
       "      <td>0</td>\n",
       "      <td>0</td>\n",
       "      <td>0</td>\n",
       "      <td>...</td>\n",
       "      <td>0</td>\n",
       "      <td>0</td>\n",
       "      <td>0</td>\n",
       "      <td>0</td>\n",
       "      <td>0</td>\n",
       "      <td>0</td>\n",
       "      <td>0</td>\n",
       "      <td>0</td>\n",
       "      <td>0</td>\n",
       "      <td>0</td>\n",
       "    </tr>\n",
       "    <tr>\n",
       "      <th>4</th>\n",
       "      <td>2016</td>\n",
       "      <td>15100</td>\n",
       "      <td>29213</td>\n",
       "      <td>30</td>\n",
       "      <td>64.2</td>\n",
       "      <td>2.0</td>\n",
       "      <td>4064256</td>\n",
       "      <td>0</td>\n",
       "      <td>0</td>\n",
       "      <td>0</td>\n",
       "      <td>...</td>\n",
       "      <td>0</td>\n",
       "      <td>0</td>\n",
       "      <td>0</td>\n",
       "      <td>0</td>\n",
       "      <td>0</td>\n",
       "      <td>0</td>\n",
       "      <td>0</td>\n",
       "      <td>0</td>\n",
       "      <td>0</td>\n",
       "      <td>0</td>\n",
       "    </tr>\n",
       "  </tbody>\n",
       "</table>\n",
       "<p>5 rows × 24 columns</p>\n",
       "</div>"
      ],
      "text/plain": [
       "   year  price  mileage  tax    mpg  engineSize   year*2  model_ A Class  \\\n",
       "0  2017  16500    16570  125   58.9         2.0  4068289               0   \n",
       "1  2017  14250    55594  135  148.7         2.0  4068289               0   \n",
       "2  2017  16000    45456   30   64.2         2.0  4068289               0   \n",
       "3  2015  12600    78957   30   62.8         2.0  4060225               0   \n",
       "4  2016  15100    29213   30   64.2         2.0  4064256               0   \n",
       "\n",
       "   model_ Astra  model_ C Class  ...  model_ Kuga  model_ Mokka X  \\\n",
       "0             0               0  ...            0               0   \n",
       "1             0               0  ...            0               0   \n",
       "2             0               0  ...            0               0   \n",
       "3             0               0  ...            0               0   \n",
       "4             0               0  ...            0               0   \n",
       "\n",
       "   model_ Polo  model_ Yaris  transmission_Manual  transmission_Other  \\\n",
       "0            0             0                    1                   0   \n",
       "1            0             0                    0                   0   \n",
       "2            0             0                    0                   0   \n",
       "3            0             0                    0                   0   \n",
       "4            0             0                    0                   0   \n",
       "\n",
       "   transmission_Semi-Auto  fuelType_Hybrid  fuelType_Other  fuelType_Petrol  \n",
       "0                       0                0               0                0  \n",
       "1                       0                0               1                0  \n",
       "2                       0                0               0                0  \n",
       "3                       0                0               0                0  \n",
       "4                       0                0               0                0  \n",
       "\n",
       "[5 rows x 24 columns]"
      ]
     },
     "execution_count": 121,
     "metadata": {},
     "output_type": "execute_result"
    }
   ],
   "source": [
    "df.head()"
   ]
  },
  {
   "cell_type": "code",
   "execution_count": 122,
   "metadata": {},
   "outputs": [],
   "source": [
    "# Se separan las columnas\n",
    "X_cols = list(set(df.columns) - set(['price', 'transmission_Other', 'tax', 'model_ A Class']))\n",
    "Y_cols = ['price']\n",
    "\n",
    "X = df[X_cols].values\n",
    "Y = df[Y_cols]\n",
    "\n",
    "# Se divide el dataset\n",
    "X_train, X_test, Y_train, Y_test = train_test_split(X, Y)\n",
    "\n",
    "# Estandarización o normalización\n",
    "sc_x = StandardScaler().fit(X)\n",
    "sc_y = StandardScaler().fit(Y)\n",
    "\n",
    "X_train = sc_x.transform(X_train)\n",
    "X_test = sc_x.transform(X_test)\n",
    "Y_train = sc_y.transform(Y_train)\n",
    "Y_test = sc_y.transform(Y_test)\n",
    "\n",
    "# Crear el modelo\n",
    "model = LinearRegression(fit_intercept=False)\n",
    "model.fit(X_train, Y_train)\n",
    "y_pred = model.predict(X_test)"
   ]
  },
  {
   "cell_type": "markdown",
   "metadata": {},
   "source": [
    "## Métricas"
   ]
  },
  {
   "cell_type": "code",
   "execution_count": 123,
   "metadata": {},
   "outputs": [],
   "source": [
    "# R² (Coeficiente de Determinación) Entre cero y uno, por encima de 0.7 puede llegar a ser un buen aceptable\n",
    "r2 = round(r2_score(Y_test, y_pred),3)\n",
    "\n",
    "# Error Cuadrático Medio - Está en unidades cuadradas de la variable objetivo\n",
    "mse = round(mean_squared_error(Y_test, y_pred),3)\n",
    "\n",
    "# Raiz del MSE (RMSE) - Está en las mismas unidades de la variable objetivo, entre más bajo mejor\n",
    "rmse = round((mse ** 0.5), 3)\n",
    "\n",
    "# Error relativo promedio - Menor al 10% Excelente, entre 11% y 20% Bueno, por encima de 30% necesita ajustes\n",
    "error_relativo = round((rmse / df.price.mean() *100),3)\n",
    "\n",
    "# Error absoluto medio (MAE) - Debe ser bajo en relación al rango de la variable objetivo\n",
    "mae = round(mean_absolute_error(y_pred, Y_test), 3)"
   ]
  },
  {
   "cell_type": "code",
   "execution_count": 124,
   "metadata": {},
   "outputs": [
    {
     "name": "stdout",
     "output_type": "stream",
     "text": [
      "________Summary_________\n",
      "Residuals:\n",
      "    Min      1Q  Median     3Q   Max\n",
      "-3.4309 -0.1695   0.034 0.2227 2.479\n",
      "\n",
      "\n",
      "Coefficients:\n",
      "                         Estimate  Std. Error  t value  p value\n",
      "_intercept               0.000000    0.003822   0.0000      1.0\n",
      "model_ Polo             -0.188640    0.004773 -39.5254      0.0\n",
      "fuelType_Hybrid          0.094201    0.004748  19.8413      0.0\n",
      "model_ Golf             -0.082319    0.004644 -17.7249      0.0\n",
      "model_ Fiesta           -0.270717    0.005816 -46.5459      0.0\n",
      "fuelType_Other           0.023361    0.003969   5.8860      0.0\n",
      "fuelType_Petrol          0.054190    0.005960   9.0923      0.0\n",
      "model_ Astra            -0.229155    0.004382 -52.2959      0.0\n",
      "mileage                 -0.248424    0.005552 -44.7437      0.0\n",
      "engineSize               0.295654    0.005695  51.9133      0.0\n",
      "model_ Corsa            -0.355213    0.004762 -74.5875      0.0\n",
      "year                   -20.414128    2.297020  -8.8872      0.0\n",
      "model_ Focus            -0.141603    0.004891 -28.9516      0.0\n",
      "mpg                     -0.114142    0.005569 -20.4955      0.0\n",
      "model_ Mokka X          -0.226117    0.004438 -50.9544      0.0\n",
      "transmission_Manual     -0.083115    0.005682 -14.6283      0.0\n",
      "transmission_Semi-Auto   0.050264    0.005020  10.0127      0.0\n",
      "model_ Kuga             -0.095776    0.004344 -22.0494      0.0\n",
      "model_ Yaris            -0.243381    0.004641 -52.4469      0.0\n",
      "year*2                  20.753286    2.299009   9.0271      0.0\n",
      "model_ C Class           0.103156    0.004550  22.6718      0.0\n",
      "---\n",
      "R-squared:  0.84865,    Adjusted R-squared:  0.84835\n",
      "F-statistic: 2846.00 on 20 features\n"
     ]
    }
   ],
   "source": [
    "# model.intercept_ = model.intercept_[0] # Limpian los datos\n",
    "model.coef_ = model.coef_.reshape(-1) # Limpian los datos\n",
    "\n",
    "Y_test = Y_test.reshape(-1)\n",
    "\n",
    "print('________Summary_________')\n",
    "stats.summary(model, X_test, Y_test, X_cols) # Hace un resumen de los datos de test"
   ]
  },
  {
   "cell_type": "code",
   "execution_count": 125,
   "metadata": {},
   "outputs": [
    {
     "name": "stdout",
     "output_type": "stream",
     "text": [
      "r2: 0.849\n",
      "mse: 0.148\n",
      "Raíz del Error Cuadrático Medio (RMSE): 0.385 unidades monetarias\n",
      "Error relativo promedio: 0.003\n",
      "MAE: 0.273\n"
     ]
    }
   ],
   "source": [
    "print('r2:', r2) # Por encima del 75 es un buen modelo, por encima de 85 es un excelente modelo, por encima de 90 es un modelo perfecto\n",
    "print('mse:', mse) # Evalua el modelo entre 3 y -3\n",
    "print(f\"Raíz del Error Cuadrático Medio (RMSE): {rmse} unidades monetarias\")\n",
    "print(f'Error relativo promedio: {error_relativo}')\n",
    "print(f'MAE: {mae}')"
   ]
  },
  {
   "cell_type": "code",
   "execution_count": 126,
   "metadata": {},
   "outputs": [
    {
     "data": {
      "image/png": "[encoded data removed]",
      "text/plain": [
       "<Figure size 640x480 with 1 Axes>"
      ]
     },
     "metadata": {},
     "output_type": "display_data"
    }
   ],
   "source": [
    "residuales = np.subtract(Y_test, y_pred.reshape(-1)) # reshape para que quede con las mismas dimensiones\n",
    "plt.scatter(y_pred, residuales, alpha=0.5)\n",
    "plt.show()"
   ]
  }
 ],
 "metadata": {
  "kernelspec": {
   "display_name": "Python 3",
   "language": "python",
   "name": "python3"
  },
  "language_info": {
   "codemirror_mode": {
    "name": "ipython",
    "version": 3
   },
   "file_extension": ".py",
   "mimetype": "text/x-python",
   "name": "python",
   "nbconvert_exporter": "python",
   "pygments_lexer": "ipython3",
   "version": "3.11.4"
  }
 },
 "nbformat": 4,
 "nbformat_minor": 2
}
