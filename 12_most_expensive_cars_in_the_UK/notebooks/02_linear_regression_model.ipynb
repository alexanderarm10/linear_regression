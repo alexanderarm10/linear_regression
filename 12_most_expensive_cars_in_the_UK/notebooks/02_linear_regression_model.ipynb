{
 "cells": [
  {
   "cell_type": "markdown",
   "metadata": {},
   "source": [
    "1. Configuración inicial: preprocesamiento\n",
    "Asegúrate de que los datos estén preparados antes de entrenar el modelo:\n",
    "Aplica One-Hot Encoding para las columnas categóricas.\n",
    "Escala las variables numéricas si hay diferencias significativas en magnitudes.\n",
    "\n",
    "Por ejemplo:"
   ]
  },
  {
   "cell_type": "code",
   "execution_count": null,
   "metadata": {},
   "outputs": [],
   "source": [
    "from sklearn.model_selection import train_test_split\n",
    "from sklearn.preprocessing import StandardScaler, OneHotEncoder\n",
    "import pandas as pd\n",
    "\n",
    "# Dividir las variables predictoras (X) y la variable objetivo (y)\n",
    "X = df.drop(columns=['price'])  # price es la variable que queremos predecir\n",
    "y = df['price']  # Variable objetivo\n",
    "\n",
    "# Codificar las columnas categóricas\n",
    "encoder = OneHotEncoder(drop='first', sparse=False)\n",
    "X_encoded = encoder.fit_transform(X[['sex', 'smoker', 'region']])\n",
    "X = pd.concat([pd.DataFrame(X_encoded, columns=encoder.get_feature_names_out()), X.drop(columns=['sex', 'smoker', 'region'])], axis=1)\n",
    "\n",
    "# Escalar variables numéricas\n",
    "scaler = StandardScaler()\n",
    "X_scaled = scaler.fit_transform(X)\n",
    "\n",
    "# Dividir en conjunto de entrenamiento y prueba\n",
    "X_train, X_test, y_train, y_test = train_test_split(X_scaled, y, test_size=0.2, random_state=42)"
   ]
  },
  {
   "cell_type": "markdown",
   "metadata": {},
   "source": [
    "2. Entrenar el modelo de regresión lineal\n",
    "Usa  para crear y entrenar el modelo:"
   ]
  },
  {
   "cell_type": "code",
   "execution_count": null,
   "metadata": {},
   "outputs": [],
   "source": [
    "from sklearn.linear_model import LinearRegression\n",
    "\n",
    "# Instanciar el modelo\n",
    "model = LinearRegression()\n",
    "\n",
    "# Entrenar el modelo con los datos de entrenamiento\n",
    "model.fit(X_train, y_train)\n",
    "\n",
    "# Hacer predicciones en el conjunto de prueba\n",
    "y_pred = model.predict(X_test)"
   ]
  },
  {
   "cell_type": "markdown",
   "metadata": {},
   "source": [
    "3. Evaluar el modelo\n",
    "Evalúa el rendimiento utilizando métricas como el Error Cuadrático Medio (MSE) y el R²:"
   ]
  },
  {
   "cell_type": "code",
   "execution_count": null,
   "metadata": {},
   "outputs": [],
   "source": [
    "from sklearn.metrics import mean_squared_error, r2_score\n",
    "\n",
    "# Calcular métricas de evaluación\n",
    "mse = mean_squared_error(y_test, y_pred)\n",
    "r2 = r2_score(y_test, y_pred)\n",
    "\n",
    "print(f\"Error Cuadrático Medio (MSE): {mse}\")\n",
    "print(f\"R²: {r2}\")"
   ]
  },
  {
   "cell_type": "markdown",
   "metadata": {},
   "source": [
    "4. Interpretar los coeficientes\n",
    "Los coeficientes del modelo de regresión lineal indican la influencia de cada variable en el precio del auto:\n",
    "Esto te dará una tabla que muestra qué tan fuerte es la relación entre cada característica y el precio."
   ]
  },
  {
   "cell_type": "code",
   "execution_count": null,
   "metadata": {},
   "outputs": [],
   "source": [
    "coefficients = pd.DataFrame({'Feature': X.columns, 'Coefficient': model.coef_})\n",
    "print(coefficients)"
   ]
  },
  {
   "cell_type": "markdown",
   "metadata": {},
   "source": [
    "5. Ajustes\n",
    "Si el rendimiento no es ideal:\n",
    "Revisa la relevancia de las características y elimina aquellas que no aporten mucho valor.\n",
    "Prueba transformaciones adicionales de las variables (como logaritmos para variables sesgadas).\n",
    "Explora interacción entre las variables si sospechas de relaciones no lineales."
   ]
  }
 ],
 "metadata": {
  "kernelspec": {
   "display_name": "Python 3",
   "language": "python",
   "name": "python3"
  },
  "language_info": {
   "name": "python",
   "version": "3.11.4"
  }
 },
 "nbformat": 4,
 "nbformat_minor": 2
}
