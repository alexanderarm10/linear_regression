{
 "cells": [
  {
   "cell_type": "markdown",
   "id": "e4aa0cf0",
   "metadata": {},
   "source": [
    "# 1. Carga de datos"
   ]
  },
  {
   "cell_type": "code",
   "execution_count": 1,
   "id": "295ad8e5",
   "metadata": {},
   "outputs": [],
   "source": [
    "# Librerías\n",
    "import pandas as pd\n",
    "import matplotlib.pyplot as plt\n",
    "import seaborn as sns\n",
    "\n",
    "# Estilos\n",
    "sns.set(style='whitegrid')"
   ]
  },
  {
   "cell_type": "code",
   "execution_count": 16,
   "id": "340e79da",
   "metadata": {},
   "outputs": [
    {
     "name": "stdout",
     "output_type": "stream",
     "text": [
      "<class 'pandas.core.frame.DataFrame'>\n",
      "RangeIndex: 2938 entries, 0 to 2937\n",
      "Data columns (total 22 columns):\n",
      " #   Column                           Non-Null Count  Dtype  \n",
      "---  ------                           --------------  -----  \n",
      " 0   Country                          2938 non-null   object \n",
      " 1   Year                             2938 non-null   int64  \n",
      " 2   Status                           2938 non-null   object \n",
      " 3   Life expectancy                  2928 non-null   float64\n",
      " 4   Adult Mortality                  2928 non-null   float64\n",
      " 5   infant deaths                    2938 non-null   int64  \n",
      " 6   Alcohol                          2744 non-null   float64\n",
      " 7   percentage expenditure           2938 non-null   float64\n",
      " 8   Hepatitis B                      2385 non-null   float64\n",
      " 9   Measles                          2938 non-null   int64  \n",
      " 10  BMI                              2904 non-null   float64\n",
      " 11  under-five deaths                2938 non-null   int64  \n",
      " 12  Polio                            2919 non-null   float64\n",
      " 13  Total expenditure                2712 non-null   float64\n",
      " 14  Diphtheria                       2919 non-null   float64\n",
      " 15  HIV/AIDS                         2938 non-null   float64\n",
      " 16  GDP                              2490 non-null   float64\n",
      " 17  Population                       2286 non-null   float64\n",
      " 18  thinness  1-19 years             2904 non-null   float64\n",
      " 19  thinness 5-9 years               2904 non-null   float64\n",
      " 20  Income composition of resources  2771 non-null   float64\n",
      " 21  Schooling                        2775 non-null   float64\n",
      "dtypes: float64(16), int64(4), object(2)\n",
      "memory usage: 505.1+ KB\n"
     ]
    }
   ],
   "source": [
    "df = pd.read_csv('../datos/crudos/Life Expectancy Data.csv') # Lee los datos\n",
    "df.columns = df.columns.str.strip() # Quita los espacios de los nombres de las columnas\n",
    "df.info()"
   ]
  },
  {
   "cell_type": "code",
   "execution_count": 46,
   "id": "4ec3d329",
   "metadata": {},
   "outputs": [
    {
     "data": {
      "text/plain": [
       "Country\n",
       "Afghanistan         16\n",
       "Peru                16\n",
       "Nicaragua           16\n",
       "Niger               16\n",
       "Nigeria             16\n",
       "Norway              16\n",
       "Oman                16\n",
       "Pakistan            16\n",
       "Panama              16\n",
       "Papua New Guinea    16\n",
       "Name: count, dtype: int64"
      ]
     },
     "execution_count": 46,
     "metadata": {},
     "output_type": "execute_result"
    }
   ],
   "source": [
    "# Revisamos los valores únicos de la columna Country y contamos los registros de cada uno\n",
    "country = df.Country.value_counts()\n",
    "country.head(10)"
   ]
  },
  {
   "cell_type": "code",
   "execution_count": 47,
   "id": "5c51de48",
   "metadata": {},
   "outputs": [
    {
     "name": "stdout",
     "output_type": "stream",
     "text": [
      "<class 'pandas.core.frame.DataFrame'>\n",
      "Index: 2928 entries, 0 to 2937\n",
      "Data columns (total 23 columns):\n",
      " #   Column                           Non-Null Count  Dtype  \n",
      "---  ------                           --------------  -----  \n",
      " 0   Country                          2928 non-null   object \n",
      " 1   Year                             2928 non-null   int64  \n",
      " 2   Status                           2928 non-null   object \n",
      " 3   Life expectancy                  2928 non-null   float64\n",
      " 4   Adult Mortality                  2928 non-null   float64\n",
      " 5   infant deaths                    2928 non-null   int64  \n",
      " 6   Alcohol                          2735 non-null   float64\n",
      " 7   percentage expenditure           2928 non-null   float64\n",
      " 8   Hepatitis B                      2375 non-null   float64\n",
      " 9   Measles                          2928 non-null   int64  \n",
      " 10  BMI                              2896 non-null   float64\n",
      " 11  under-five deaths                2928 non-null   int64  \n",
      " 12  Polio                            2909 non-null   float64\n",
      " 13  Total expenditure                2702 non-null   float64\n",
      " 14  Diphtheria                       2909 non-null   float64\n",
      " 15  HIV/AIDS                         2928 non-null   float64\n",
      " 16  GDP                              2485 non-null   float64\n",
      " 17  Population                       2284 non-null   float64\n",
      " 18  thinness  1-19 years             2896 non-null   float64\n",
      " 19  thinness 5-9 years               2896 non-null   float64\n",
      " 20  Income composition of resources  2768 non-null   float64\n",
      " 21  Schooling                        2768 non-null   float64\n",
      " 22  nulos                            2928 non-null   int64  \n",
      "dtypes: float64(16), int64(5), object(2)\n",
      "memory usage: 549.0+ KB\n"
     ]
    }
   ],
   "source": [
    "# Tomamos solo los países con al menos 16 registros\n",
    "df = df.groupby('Country').filter(lambda x: len(x) >= 16)\n",
    "df.info()"
   ]
  },
  {
   "cell_type": "code",
   "execution_count": 44,
   "id": "430468cf",
   "metadata": {},
   "outputs": [
    {
     "data": {
      "text/html": [
       "<div>\n",
       "<style scoped>\n",
       "    .dataframe tbody tr th:only-of-type {\n",
       "        vertical-align: middle;\n",
       "    }\n",
       "\n",
       "    .dataframe tbody tr th {\n",
       "        vertical-align: top;\n",
       "    }\n",
       "\n",
       "    .dataframe thead th {\n",
       "        text-align: right;\n",
       "    }\n",
       "</style>\n",
       "<table border=\"1\" class=\"dataframe\">\n",
       "  <thead>\n",
       "    <tr style=\"text-align: right;\">\n",
       "      <th></th>\n",
       "      <th>nulos</th>\n",
       "    </tr>\n",
       "    <tr>\n",
       "      <th>Country</th>\n",
       "      <th></th>\n",
       "    </tr>\n",
       "  </thead>\n",
       "  <tbody>\n",
       "    <tr>\n",
       "      <th>South Sudan</th>\n",
       "      <td>122</td>\n",
       "    </tr>\n",
       "    <tr>\n",
       "      <th>Somalia</th>\n",
       "      <td>91</td>\n",
       "    </tr>\n",
       "    <tr>\n",
       "      <th>Democratic People's Republic of Korea</th>\n",
       "      <td>84</td>\n",
       "    </tr>\n",
       "    <tr>\n",
       "      <th>United Kingdom of Great Britain and Northern Ireland</th>\n",
       "      <td>81</td>\n",
       "    </tr>\n",
       "    <tr>\n",
       "      <th>Democratic Republic of the Congo</th>\n",
       "      <td>73</td>\n",
       "    </tr>\n",
       "    <tr>\n",
       "      <th>Czechia</th>\n",
       "      <td>68</td>\n",
       "    </tr>\n",
       "    <tr>\n",
       "      <th>United Republic of Tanzania</th>\n",
       "      <td>68</td>\n",
       "    </tr>\n",
       "    <tr>\n",
       "      <th>Côte d'Ivoire</th>\n",
       "      <td>67</td>\n",
       "    </tr>\n",
       "    <tr>\n",
       "      <th>Republic of Moldova</th>\n",
       "      <td>66</td>\n",
       "    </tr>\n",
       "    <tr>\n",
       "      <th>Republic of Korea</th>\n",
       "      <td>66</td>\n",
       "    </tr>\n",
       "  </tbody>\n",
       "</table>\n",
       "</div>"
      ],
      "text/plain": [
       "                                                    nulos\n",
       "Country                                                  \n",
       "South Sudan                                           122\n",
       "Somalia                                                91\n",
       "Democratic People's Republic of Korea                  84\n",
       "United Kingdom of Great Britain and Northern Ir...     81\n",
       "Democratic Republic of the Congo                       73\n",
       "Czechia                                                68\n",
       "United Republic of Tanzania                            68\n",
       "Côte d'Ivoire                                          67\n",
       "Republic of Moldova                                    66\n",
       "Republic of Korea                                      66"
      ]
     },
     "execution_count": 44,
     "metadata": {},
     "output_type": "execute_result"
    }
   ],
   "source": [
    "df['nulos'] = df.isnull().sum(axis=1)\n",
    "nulos_country = df.groupby('Country')['nulos'].sum().sort_values(ascending=False)\n",
    "nulos_country = pd.DataFrame(nulos_country)\n",
    "nulos_country.head(10)"
   ]
  }
 ],
 "metadata": {
  "kernelspec": {
   "display_name": "Python 3",
   "language": "python",
   "name": "python3"
  },
  "language_info": {
   "codemirror_mode": {
    "name": "ipython",
    "version": 3
   },
   "file_extension": ".py",
   "mimetype": "text/x-python",
   "name": "python",
   "nbconvert_exporter": "python",
   "pygments_lexer": "ipython3",
   "version": "3.11.4"
  }
 },
 "nbformat": 4,
 "nbformat_minor": 5
}
